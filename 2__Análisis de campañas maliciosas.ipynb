{
 "cells": [
  {
   "cell_type": "markdown",
   "metadata": {},
   "source": [
    "# Análisis de campañas maliciosas\n",
    "\n",
    "Lo interesante de los grafos es que nos permiten visualizar mucha información y nos pueden dar un punto de partida sobre como abordar nuestros análisis, que puede ser desde encontrar semejanzas con otras campañas vistas anteriormente o quizá identificar si se trata de una campaña que no tiene relación con algo visto anteriormente"
   ]
  },
  {
   "cell_type": "markdown",
   "metadata": {},
   "source": [
    "Así que para esta caso volveremos a utilizar la librería `networkx`, para generar los grafos, además de algunas otras librerías que nos van a permitir manipular archivos.\n",
    "Particularmente, en esta parte del workshop propongo un análisis a partir de los iconos de las muestras de malware. Esta pequeña pieza de información nos puede aportar bastante información, sobre todo cuando se trata de campañas que utilizan la ingeniería social como vector de propagación, por ejemplo ocultando el código malicioso en archivos con doble extensión."
   ]
  },
  {
   "cell_type": "code",
   "execution_count": 6,
   "metadata": {
    "collapsed": true
   },
   "outputs": [],
   "source": [
    "#!/usr/bin/python\n",
    "\n",
    "import sys\n",
    "import os\n",
    "import logging\n",
    "import networkx\n",
    "import tempfile\n",
    "from subprocess import check_output\n",
    "from networkx.drawing.nx_agraph import write_dot\n",
    "from networkx.algorithms import bipartite\n",
    "\n",
    "network = networkx.Graph()"
   ]
  },
  {
   "cell_type": "markdown",
   "metadata": {},
   "source": [
    "Para este caso voy a utilizar una serie de muestras detectadas por las tecnologías de ESET durante la primera semana de septiembre en algunos países de Latinoamérica. Si bien por temas legales no puedo compartir las muestras que utilicé en el análisis, al final les voy a dejar los *hashes* de las muestras utilizadas y también voy a compartir algunos de los resultados para entender de que manera se pueden usar estos análisis.\n",
    "\n",
    "La idea es extraer información de los iconos de las diferentes muestras para analizar, y para esto nos valemos de herramientas como `wrestool` e `icotool` para recolectarla y almacenarla para su análisis"
   ]
  },
  {
   "cell_type": "code",
   "execution_count": 2,
   "metadata": {
    "collapsed": true
   },
   "outputs": [],
   "source": [
    "ruta='/Agrega la ruta donde están las muestras'\n",
    "objetos=[]\n",
    "carpeta=os.listdir(ruta)\n",
    "\n",
    "for muestra in carpeta:\n",
    "    \n",
    "    carpetas_tmp=tempfile.mkdtemp()\n",
    "    \n",
    "    icondir = os.path.join(carpetas_tmp,\"icons\")\n",
    "    bitmapdir = os.path.join(carpetas_tmp,\"bitmaps\")\n",
    "    raw_resources = os.path.join(carpetas_tmp,\"raw\")\n",
    "    \n",
    "    for directory in [icondir,bitmapdir,raw_resources]:\n",
    "        os.mkdir(directory)\n",
    "            \n",
    "    target_binary=os.path.join(ruta,muestra)\n",
    "\n",
    "    rawcmd = \"wrestool -x {0} -o {1}\".format(target_binary,raw_resources)\n",
    "    bmpcmd = \"mv {0}/*.bmp {1}\".format(raw_resources,bitmapdir)\n",
    "    icocmd = \"icotool -x {0}/*.ico -o {1}\".format(raw_resources,icondir)\n",
    "       \n",
    "    for dirname in [icondir,bitmapdir]:\n",
    "        for pathimages in os.listdir(dirname):\n",
    "            logging.info(pathimages)\n",
    "            pathashes = os.path.join(dirname,pathimages)\n",
    "                \n",
    "            comando = \"sha1sum {0}\".format(pathashes)\n",
    "            imagehash = check_output(comando, shell=True).decode(\"utf-8\")[0:40]\n",
    "            if pathimages.endswith(\".png\"):\n",
    "                objetos.append((pathashes,imagehash))\n",
    "            if pathimages.endswith(\".bmp\"):\n",
    "                objetos.append((pathashes,imagehash))\n",
    "    \n",
    "    for ruta_imagen, hash_imagen in objetos:\n",
    "            \n",
    "            if not hash_imagen in network:\n",
    "                network.add_node(hash_imagen,image=ruta_imagen,label='',type='image',color='blue')\n",
    "            node_name = (ruta_imagen.split(\"/\")[-1]).split(\"_\")[0]\n",
    "            network.add_node(node_name,type=\"malware\",color='red')\n",
    "            network.add_edge(node_name,hash_imagen)    "
   ]
  },
  {
   "cell_type": "markdown",
   "metadata": {},
   "source": [
    "##### No olviden monitorear la carpeta `/tmp`, después de varias rondas de análisis puede ocupar mucho espacio en disco\n",
    "\n",
    "Ahora con toda la información procesada y separada podemos escribir los archivos *.dot* para luego graficar. Como había mencionado anteriormente en este caso utilizo *fdp* de `GraphViz`, hay otras opciones como *sfdp* o *neato* que nos pueden dar otras opciones para distribuir los grafos. \n",
    "Si bien `pandas` ofrece también muy buenas alternativas de visualización, a medida que crece la cantidad de nodos y aristas del grafo herramientas como `GraphViz` dan mejores resultados."
   ]
  },
  {
   "cell_type": "code",
   "execution_count": 3,
   "metadata": {
    "collapsed": true
   },
   "outputs": [],
   "source": [
    "grafo_iconos='/Agrega la ruta donde vas a dejar las archivos/grafoICO.dot'\n",
    "grafo_bipartito='/Agrega la ruta donde vas a dejar las archivos/grafo_bipartito.dot'\n",
    "\n",
    "write_dot(network, grafo_iconos)\n",
    "\n",
    "malware = set(n for n,d in network.nodes(data=True) if d['type']=='malware')\n",
    "\n",
    "malware_network = bipartite.projected_graph(network, malware)\n",
    "write_dot(malware_network,grafo_bipartito)"
   ]
  },
  {
   "cell_type": "markdown",
   "metadata": {},
   "source": [
    "Utilizando la herramienta *fdp* de `GraphViz` se puede obtener la representación de nuestro grafo\n",
    "\n",
    "`$fdp grafoICO.dot -T png -o grafoICO.png -Goverlap=false`\n",
    "\n",
    "<a href=\"https://ibb.co/5MLMQTB\"><img src=\"https://i.ibb.co/kHXHLKQ/grafo4-mex.png\" alt=\"grafo4-mex\" border=\"0\"></a>\n",
    "\n",
    "Otro grafo\n",
    "\n",
    "<a href=\"https://ibb.co/NnXkNx6\"><img src=\"https://i.ibb.co/YT6Kd27/grafo-iconos-malware-col.png\" alt=\"grafo-iconos-malware-col\" border=\"0\"></a>\n",
    "\n",
    "Otro grafo más\n",
    "\n",
    "<a href=\"https://ibb.co/tBRk9LQ\"><img src=\"https://i.ibb.co/H7Z1jhB/grafo-iconos-malware-mex.png\" alt=\"grafo-iconos-malware-mex\" border=\"0\"></a>\n",
    "\n"
   ]
  },
  {
   "cell_type": "markdown",
   "metadata": {},
   "source": [
    "## Grafos bipartitos\n",
    "\n",
    "\n",
    "`$fdp grafo_bipartito.dot -T png -o grafo_bipartito.png -Goverlap=false`\n",
    "\n",
    "### Grafo de detecciones en MX\n",
    "<a href=\"https://ibb.co/wrzfpCT\"><img src=\"https://i.ibb.co/qFrvm9z/bipartite1.jpg\" alt=\"bipartite1\" border=\"0\"></a>\n",
    "\n",
    "#### Un poco más detalle\n",
    "<a href=\"https://ibb.co/bKfQk3J\"><img src=\"https://i.ibb.co/d5hjRcg/bipartite-MX.jpg\" alt=\"bipartite-MX\" border=\"0\"></a>\n",
    "\n",
    "### Grafo de detecciones en CO\n",
    "<a href=\"https://ibb.co/Cm1pm48\"><img src=\"https://i.ibb.co/TYvDYJ2/bipartite2.jpg\" alt=\"bipartite2\" border=\"0\"></a>\n",
    "\n",
    "#### Un poco más detalle\n",
    "<a href=\"https://ibb.co/t2dWmDn\"><img src=\"https://i.ibb.co/DMqSVQm/bipartite-CO.jpg\" alt=\"bipartite-CO\" border=\"0\"></a>"
   ]
  }
 ],
 "metadata": {
  "kernelspec": {
   "display_name": "Python 3",
   "language": "python",
   "name": "python3"
  },
  "language_info": {
   "codemirror_mode": {
    "name": "ipython",
    "version": 3
   },
   "file_extension": ".py",
   "mimetype": "text/x-python",
   "name": "python",
   "nbconvert_exporter": "python",
   "pygments_lexer": "ipython3",
   "version": "3.6.3"
  }
 },
 "nbformat": 4,
 "nbformat_minor": 4
}
