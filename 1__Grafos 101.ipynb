{
 "cells": [
  {
   "cell_type": "markdown",
   "metadata": {},
   "source": [
    "# Grafos 101"
   ]
  },
  {
   "cell_type": "markdown",
   "metadata": {},
   "source": [
    "<a href=\"https://ibb.co/nQByK7m\"><img src=\"https://i.ibb.co/gtd8cS9/1.jpg\" alt=\"1\" border=\"0\"></a>"
   ]
  },
  {
   "cell_type": "markdown",
   "metadata": {},
   "source": [
    "En este caso vamos a utilizar la librería `networkx`, bastante popular para generar y manipular los archivos *.dot* que serán los que utilicemos para dibujar los grafos; luego de importarla estamos listos para instanciar un nuevo grafo vacío"
   ]
  },
  {
   "cell_type": "code",
   "execution_count": 1,
   "metadata": {
    "collapsed": true
   },
   "outputs": [],
   "source": [
    "#!/usr/bin/python\n",
    "\n",
    "import networkx\n",
    "from networkx.drawing.nx_agraph import write_dot\n",
    "\n",
    "MiPrimerGrafo = networkx.Graph()"
   ]
  },
  {
   "cell_type": "markdown",
   "metadata": {},
   "source": [
    "Cómo siempre, la forma más sencilla para generar un grafo y que probablemente nunca volvamos a utilizar, consiste en declarar los nodos (en adelante nos referiremos como `node`) y las aristas (en adelante `edge`) de manera manual, generando listas para ello."
   ]
  },
  {
   "cell_type": "code",
   "execution_count": 3,
   "metadata": {
    "collapsed": true
   },
   "outputs": [],
   "source": [
    "nodes = [\"ekoparty\",\"BlueSpace\",1,2,3]\n",
    "for node in nodes:\n",
    "    MiPrimerGrafo.add_node(node)\n",
    "MiPrimerGrafo.add_edge(\"ekoparty\",\"BlueSpace\")\n",
    "MiPrimerGrafo.add_edge(1,2)\n",
    "MiPrimerGrafo.add_edge(1,3)\n",
    "MiPrimerGrafo.add_node(1,UnAtributo=\"Grafos101\")\n",
    "MiPrimerGrafo.nodes[1][\"UnAtributo\"] = \"Grafos101\"\n",
    "\n",
    "MiPrimerGrafo.add_edge(\"node1\",\"node2\",UnAtributo=\"Alguna descripción del enlace entre nodos\")\n",
    "MiPrimerGrafo.get_edge_data(\"node1\",\"node2\")[\"OtroAtributo\"] = \"Otra descripción\""
   ]
  },
  {
   "cell_type": "markdown",
   "metadata": {},
   "source": [
    "Usando `write_dot` podemos escribir un archivo en nuestro equipo, que utilizaremos para obtener la representación del gafo"
   ]
  },
  {
   "cell_type": "code",
   "execution_count": 5,
   "metadata": {
    "collapsed": true
   },
   "outputs": [],
   "source": [
    "write_dot(MiPrimerGrafo, \"grafo101.dot\")"
   ]
  },
  {
   "cell_type": "markdown",
   "metadata": {},
   "source": [
    "Luego utilizando la herramienta *fdp* de `GraphViz` se puede obtener la representación de nuestro grafo\n",
    "\n",
    "`$fdp grafo101.dot -T png -o grafo101.png -Goverlap=false`\n",
    "\n",
    "<a href=\"https://imgbb.com/\"><img src=\"https://i.ibb.co/7gC1SL2/grafo101.png\" alt=\"grafo101\" border=\"0\"></a><br /><a target='_blank' href='https://es.imgbb.com/'></a><br />"
   ]
  }
 ],
 "metadata": {
  "kernelspec": {
   "display_name": "Python 3",
   "language": "python",
   "name": "python3"
  },
  "language_info": {
   "codemirror_mode": {
    "name": "ipython",
    "version": 3
   },
   "file_extension": ".py",
   "mimetype": "text/x-python",
   "name": "python",
   "nbconvert_exporter": "python",
   "pygments_lexer": "ipython3",
   "version": "3.6.3"
  }
 },
 "nbformat": 4,
 "nbformat_minor": 4
}
