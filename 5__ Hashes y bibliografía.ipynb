{
 "cells": [
  {
   "cell_type": "markdown",
   "metadata": {},
   "source": [
    "# Hashes y bibliografía"
   ]
  },
  {
   "cell_type": "markdown",
   "metadata": {},
   "source": [
    "## Hashes utilizados en los análisis"
   ]
  },
  {
   "cell_type": "markdown",
   "metadata": {},
   "source": [
    "En el siguiente archivo dejo un listado de las muestras con las que hice muchos de los análisis presentados anteriormente\n",
    "**https://github.com/hcamiloga/EkoBlueSpace/blob/master/hashesEkoBlueSpace.csv**"
   ]
  },
  {
   "cell_type": "markdown",
   "metadata": {},
   "source": [
    "## Bibliografía\n",
    "\n",
    "Si bien hay muchísima información en Internet, para desarrollar este workshop me basé en información del libro *Malware Data Science* de los autores Joshua Saxe y Hillary Sanders; es un libro muy recomendado que contiene información bastante interesante que se puede retomar para actividades de Threat Intelligence.\n",
    "\n",
    "<img src=https://d1w7fb2mkkr3kw.cloudfront.net/assets/images/book/lrg/9781/5932/9781593278595.jpg>"
   ]
  }
 ],
 "metadata": {
  "kernelspec": {
   "display_name": "Python 3",
   "language": "python",
   "name": "python3"
  },
  "language_info": {
   "codemirror_mode": {
    "name": "ipython",
    "version": 3
   },
   "file_extension": ".py",
   "mimetype": "text/x-python",
   "name": "python",
   "nbconvert_exporter": "python",
   "pygments_lexer": "ipython3",
   "version": "3.6.3"
  }
 },
 "nbformat": 4,
 "nbformat_minor": 4
}
