{
 "cells": [
  {
   "cell_type": "markdown",
   "metadata": {},
   "source": [
    "# Grafo de Semejanza"
   ]
  },
  {
   "cell_type": "markdown",
   "metadata": {},
   "source": [
    "El siguiente paso es unir lo mejor de ambos mundos mundos, el análisis basado en grafos con los cálculos de semenjanza, y para eso vamos a armar Grafos de Semejanza donde vamos a poder incluir más variables en el análisis aprovechando las potencialidades que tienen los Grafos\n",
    "\n",
    "En este caso y para no hacer grafos muy extensos que quizá no nos aporten mucho valor análitico vamos a definir un *nivel de similitud*, de tal manera que solamente llevaremos al grafo aquellas muestras que sean lo suficientemente similares. En la bibliografía recomiendan un valor cercano a 0.8, pero como parte del análisis puedes variar este valor para ver como cambian los grafos."
   ]
  },
  {
   "cell_type": "code",
   "execution_count": 143,
   "metadata": {
    "collapsed": true
   },
   "outputs": [],
   "source": [
    "#!/usr/bin/python\n",
    "\n",
    "import os\n",
    "import networkx\n",
    "import itertools\n",
    "import pprint\n",
    "from networkx.drawing.nx_agraph import write_dot\n",
    "\n",
    "nivel_similitud= 0.8\n",
    "muestras = [] \n",
    "atributos_muestras = dict()\n",
    "grafo_similitud = networkx.Graph()\n"
   ]
  },
  {
   "cell_type": "code",
   "execution_count": 146,
   "metadata": {
    "collapsed": true
   },
   "outputs": [],
   "source": [
    "for root, carpetas, rutas in os.walk('/Agrega la ruta donde están las muestras'):\n",
    "        \n",
    "    for ubicacion in rutas:\n",
    "        \n",
    "        ruta_completa = os.ubicacion.join(root,ubicacion)\n",
    "                \n",
    "        muestras.append(ruta_completa)"
   ]
  },
  {
   "cell_type": "code",
   "execution_count": 123,
   "metadata": {
    "collapsed": true
   },
   "outputs": [],
   "source": [
    "for sample in muestras:\n",
    "    \n",
    "    strings = os.popen(\"strings '{0}'\".format(sample)).read()\n",
    "    strings = set(strings.split(\"\\n\"))\n",
    "   \n",
    "    atributos_muestras[sample] = strings\n",
    "\n",
    "    nombre_nodo=path.split('/')[-2][:3]+'_'+path.split('/')[-1][:40]\n",
    "    graph.add_node(nombre_nodo,label=os.path.split(path)[-1][:40],color='green')"
   ]
  },
  {
   "cell_type": "markdown",
   "metadata": {},
   "source": [
    "Hasta este punto hicimos básicamente lo mismo que en el caso anterior: extraer los strings para conformar nuestro *corpus* de análisis.\n",
    "\n",
    "Ahora simplemente,vamos a calcular el índice de Jaccard para cada par de muestras y dejar como aristas solamente aquellos en los cuales el valor del índice sobrepasa el nivel de similitud establecido."
   ]
  },
  {
   "cell_type": "code",
   "execution_count": 124,
   "metadata": {
    "collapsed": true
   },
   "outputs": [],
   "source": [
    "for malware1,malware2 in itertools.combinations(muestras,2):\n",
    "\n",
    "    interseccion = atributos_muestras[malware1].intersection(atributos_muestras[malware2])\n",
    "    elementos_comun = float(len(intersection))\n",
    "    \n",
    "    union = atributos_muestras[malware1].union(atributos_muestras[malware2])\n",
    "    total_elementos = float(len(union))\n",
    "    \n",
    "    indice_jaccard = elementos_comun / total_elementos\n",
    "    \n",
    "    if indice_jaccard > nivel_similitud:\n",
    "        \n",
    "        nombre_malware1=malware1.split('/')[-2][:3]+'_'+malware1.split('/')[-1][:40]\n",
    "        nombre_malware2=malware2.split('/')[-2][:3]+'_'+malware2.split('/')[-1][:40]\n",
    "        grafo_similitud.add_edge(nombre_malware1,nombre_malware2,penwidth=1+(indice_jaccard-nivel_similitud)*10)\n",
    "        \n"
   ]
  },
  {
   "cell_type": "code",
   "execution_count": 125,
   "metadata": {
    "collapsed": true
   },
   "outputs": [],
   "source": [
    "write_dot(grafo_similitud,'/home/hcamiloga/eko/jaccard.dot')"
   ]
  },
  {
   "cell_type": "markdown",
   "metadata": {},
   "source": [
    "## Grafo de similitud\n",
    "`$fdp jaccard.dot -T png -o jaccard2.png -Gsplines=true`\n",
    "<a href=\"https://ibb.co/n7pk8hj\"><img src=\"https://i.ibb.co/wSt6rD4/curvas.jpg\" alt=\"curvas\" border=\"0\"></a>\n",
    "\n",
    "## Análisis de muestras en Colombia\n",
    "<a href=\"https://ibb.co/2hD7CzB\"><img src=\"https://i.ibb.co/kBRgwLF/muestras-COL.jpg\" alt=\"muestras-COL\" border=\"0\"></a>\n",
    "\n",
    "## Análisis de +600 muestras detectadas en diferentes países\n",
    "<a href=\"https://ibb.co/ctf0jrB\"><img src=\"https://i.ibb.co/wCGVfzk/muestras-LATAM.jpg\" alt=\"muestras-LATAM\" border=\"0\"></a>\n",
    "\n",
    "## Agregando colores al grafo por país\n",
    "<a href=\"https://ibb.co/sjfXvg7\"><img src=\"https://i.ibb.co/dBTH0fZ/muestras-LATAM2.jpg\" alt=\"muestras-LATAM2\" border=\"0\"></a>\n",
    "\n",
    "## Campañas diferentes en países diferentes (?)\n",
    "<a href=\"https://ibb.co/51Xtz7f\"><img src=\"https://i.ibb.co/RgGZM5V/muestras-LATAM3.jpg\" alt=\"muestras-LATAM3\" border=\"0\"></a>\n"
   ]
  },
  {
   "cell_type": "markdown",
   "metadata": {},
   "source": [
    "## ¿Cómo seguimos?\n",
    "Es muy probable que estés pensando que este modelo es muy costoso en cuato a procesamiento se refiere, y estás en lo correcto... en la medida que crece la cantidad de muestras a analizar la cantidad de combinaciones también crece de manera exponencial. Así que si quieres reducir los tiempos de análisis podríamos utilizar `MinHash`, aunque ese será tema de otro workshop"
   ]
  }
 ],
 "metadata": {
  "kernelspec": {
   "display_name": "Python 3",
   "language": "python",
   "name": "python3"
  },
  "language_info": {
   "codemirror_mode": {
    "name": "ipython",
    "version": 3
   },
   "file_extension": ".py",
   "mimetype": "text/x-python",
   "name": "python",
   "nbconvert_exporter": "python",
   "pygments_lexer": "ipython3",
   "version": "3.6.3"
  }
 },
 "nbformat": 4,
 "nbformat_minor": 4
}
